{
 "cells": [
  {
   "cell_type": "markdown",
   "metadata": {},
   "source": [
    "# Modelagem Direta "
   ]
  },
  {
   "cell_type": "markdown",
   "metadata": {},
   "source": [
    "## FWI (Full Waveform Inversion)\n",
    "\n",
    "No problema de FWI é obtido um modelo $m*$ que minimiza a função custo\n",
    "\n",
    "\\begin{equation} m^{*} = \\min \\sum_{i=0}^{N_s}\\int_0^T \\frac{1}{2}||d_{cal}(m,i)-d_{obs}(i)||^2\\,dt \\end{equation}\n",
    "\n",
    "Onde $N_s$ é o número de experimentos sísmicos o *tiros* na superficie, $T$ é o tempo máximo de aquisição, $d_{obs}(i)$ são os dados observados no campo e $d_{cal}(m,i)$ são os dados simulados no computador.\n",
    "\n",
    "O cálculo dos dados simulados é o que se conhece como **Modelagem direta** e é a componente fundamental do processo de inversão"
   ]
  },
  {
   "cell_type": "markdown",
   "metadata": {},
   "source": [
    "## Equação de onda\n",
    "\n",
    "A suposição básica é que os dados observados obedecem a equação de onda acústica\n",
    "\n",
    "\\begin{equation} \\rho(\\vec{r})\\nabla \\cdot \\left[ \\frac{1}{\\rho(\\vec{r})}\\nabla p(\\vec{r},t)\\right] - \\frac{1}{v(\\vec{r})^2}\\frac{\\partial ^2  p(\\vec{r},t)}{\\partial t^2} = - s(\\vec{r},t) \\end{equation}\n",
    "\n",
    "Onde $p(\\vec{r},t)$ é o campo de pressão, $s(\\vec{r},t)$ é a fonte sísmica, $\\rho(\\vec{r})$ é a densidade em cada ponto do espaço,  e $v(\\vec{r})$ é a velocidade de propagação de onda. Tanto densidade quanto velocidade podem ser os parâmetros a serem invertido no FWI.\n",
    "\n",
    "Se a densidade for constante a equação de onda fica como:\n",
    "\n",
    "\\begin{equation} \\nabla^2  p(\\vec{r},t)- \\frac{1}{v(\\vec{r})^2}\\frac{\\partial ^2  p(\\vec{r},t)}{\\partial t^2} = -s(\\vec{r},t)\\end{equation}\n",
    "\n",
    "Esta é a equação que vamos resolver em este tutorial por diferenças finitas.\n",
    "\n"
   ]
  },
  {
   "cell_type": "markdown",
   "metadata": {},
   "source": [
    "## Diferenças Finitas\n",
    "\n",
    "No método de diferenças finitas, para o caso 2D, o campo de onda é discretizado numa malha computacional $2D$. Na figura a seguir cada quadrado representa uma matriz que representa um campo de onda em determinado instante. Cada círculo pequeno representa um elemento da matriz que vai conter um valor do campo de onda. Um elemento da matriz esta identificado pelos indices $(i,j)$ representam a posição da matriz. A distância entre celas na direção horizontal é $\\Delta x$ e na vertical é $\\Delta z$. O intervalo temporal entre duas matrizes representado dois campo de onda seguidos é $\\Delta t$ \n",
    "\n",
    "<img src=\"teste.png\" width=\"650\">\n",
    "\n",
    "### Laplaciano\n",
    "\n",
    "Uma aproximação de segunda ordem para o laplaciano seria da seguinte forma\n",
    "\n",
    "\\begin{equation} (\\nabla^2 P)_{i,j}^t \\approx \\frac{P_{i,j+1}^t-2P_{i,j}^t+P_{i,j-1}^t}{\\Delta x^2}+\\frac{P_{i+1,j}^t-2P_{i,j}^t+P_{i-1,j}^t}{\\Delta z^2} \\end{equation}\n",
    "\n",
    "O índice $t$ indica que as quantidades usadas correspondem ao campo no tempo $t$. Para saber os coeficientes corretos pode usar a calculadora de coeficientes de diferenças finitas no site http://web.media.mit.edu/~crtaylor/calculator.html\n",
    "\n",
    "Geralmente, por causa da estabilidade numérica são usadas aproximações do laplaciano de quarta ordem para cima. Nesse caso, o laplaciano fica na forma\n",
    "\n",
    "\\begin{equation} (\\nabla^2 P)_{i,j}^t \\approx \\frac{-P_{i,j+2}^t+16P_{i,j+1}^t-30P_{i,j}^t+16P_{i,j-1}^t-P_{i,j-2}^t}{12\\Delta x^2}+\\frac{-P_{i+2,j}^t+16P_{i+1,j}^t-30P_{i,j}^t+16P_{i-1,j}^t-P_{i-2,j}^t}{12\\Delta z^2} \\end{equation}\n",
    "\n",
    "Na seguinte cela encontra-se uma função que calcula o laplaciano de quarta ordem de um campo de onda "
   ]
  },
  {
   "cell_type": "code",
   "execution_count": null,
   "metadata": {},
   "outputs": [],
   "source": [
    "import numpy as np\n",
    "import matplotlib.pyplot as plt\n",
    "import time"
   ]
  },
  {
   "cell_type": "code",
   "execution_count": null,
   "metadata": {},
   "outputs": [],
   "source": [
    "def laplaciano(onda,dx,dz):\n",
    "    dp_dzz=(-np.roll(onda,2,axis=0)+16*np.roll(onda,1,axis=0)+16*np.roll(onda,-1,axis=0)-\\\n",
    "            np.roll(onda,-2,axis=0)-30*onda)/(12.0*dz**2) #cálculo da segunda derivada em z\n",
    "    dp_dzz[0,:]=dp_dzz[1,:]=(onda[0,:]-2*onda[1,:]+onda[2,:])/(dz**2)#cálculo da segunda derivada em z para as duas primeiras linhas\n",
    "    dp_dzz[-1,:]=dp_dzz[-2,:]=(onda[-1,:]-2*onda[-2,:]+onda[-3,:])/(dz**2)#cálculo da segunda derivada em z para as duas últimas linhas\n",
    "    dp_dxx=(-np.roll(onda,2,axis=1)+16*np.roll(onda,1,axis=1)+\\\n",
    "            16*np.roll(onda,-1,axis=1)-np.roll(onda,-2,axis=1)-30*onda)/(12.0*dx**2)#cálculo da segunda derivada em x\n",
    "    dp_dxx[:,0]=dp_dxx[:,1]=(onda[:,0]-2*onda[:,1]+onda[:,2])/(dx**2)#cálculo da segunda derivada em z para as duas primeiras colunas\n",
    "    dp_dxx[:,-1]=dp_dxx[:,-2]=(onda[:,-1]-2*onda[:,-2]+onda[:,-3])/(dx**2)#cálculo da segunda derivada em z para as duas últimas colunas\n",
    "    return dp_dxx+dp_dzz"
   ]
  },
  {
   "cell_type": "markdown",
   "metadata": {},
   "source": [
    "## Derivada temporal\n",
    "\n",
    "A derivada temporal é discretizada em segunda ordem. Por tanto sempre é necessário salvar tres campos para tres instantes seguidos. A discretização da derivada temporal é calculada da forma \n",
    "\n",
    "\\begin{equation} \\left(\\frac{\\partial ^2  P}{\\partial t^2}\\right)_{i,j}=\\frac{P_{i,j}^{t+1}-2P_{i,j}^{t}+P_{i,j}^{t-1}}{\\Delta t^2}\\end{equation}\n"
   ]
  },
  {
   "cell_type": "markdown",
   "metadata": {},
   "source": [
    "## Definição da fonte\n",
    "\n",
    "A fonte sísmica usada nas simulações de propagação de onda é a wavelet de Ricker a qual é definida pela equação\n",
    "\n",
    "\\begin{equation} s(t)=\\left(1-2\\pi^2 f_p^2(t-t_0)^2\\right)\\exp\\left(-\\pi^2 f_p^2(t-t_0)^2\\right)\\end{equation}\n",
    "\n",
    "onde $t_0=\\frac{6}{\\pi f_p \\sqrt{2}}$ é um tempo de deslocamento do tempo zero de tal forma que as amplitudes representativas da wavelet estejam em $t>0$ e $f_p$ é a frequência pico, ou seja, a frequência com maior energia. A wavelet de Ricker é banda limitada e as frequências representativas estão entre $0$ e $3 f_p$. A wavelet de Ricker é a mais usada por ser a que melhor representa as reflexões observadas nos dados sísmicos reais."
   ]
  },
  {
   "cell_type": "code",
   "execution_count": null,
   "metadata": {},
   "outputs": [],
   "source": [
    "def ricker(fp,dt,amostras):\n",
    "    t0=6/(np.pi*fp*np.sqrt(2))\n",
    "    tricker=np.arange(0,dt*(amostras),dt)\n",
    "    rickeramp=(1-2*np.pi**2*fp**2*(tricker-t0)**2)*np.exp(-np.pi**2*fp**2*(tricker-t0)**2)\n",
    "    return rickeramp"
   ]
  },
  {
   "cell_type": "code",
   "execution_count": null,
   "metadata": {},
   "outputs": [],
   "source": [
    "dt=0.002 #2ms\n",
    "amostras=201\n",
    "fp=13\n",
    "wav=ricker(fp,dt,amostras)\n",
    "plt.plot(wav)"
   ]
  },
  {
   "cell_type": "code",
   "execution_count": null,
   "metadata": {},
   "outputs": [],
   "source": [
    "#para visualizar o espectro da wavelet de Ricker\n",
    "freq=np.fft.rfftfreq(wav.size,dt)\n",
    "plt.plot(freq,np.abs(np.fft.rfft(wav)));plt.xlim(0,50)\n",
    "plt.grid()"
   ]
  },
  {
   "cell_type": "markdown",
   "metadata": {},
   "source": [
    "## Equação de propagação\n",
    "\n",
    "Juntando a definição do laplaciano, da derivada temporal e da fonte, é obtida uma equação para calcular o campo futuro usando a informação dos campos presente e passado. Substituindo na equação de onda é obtido que\n",
    "\n",
    "\\begin{equation}\\frac{1}{v_{i,j}^2}\\frac{P_{i,j}^{t+1}-2P_{i,j}^{t}+P_{i,j}^{t-1}}{\\Delta t^2}=(\\nabla^2 P)_{i,j}^t +s_{i_f,j_f}^t\\end{equation}\n",
    "\n",
    "Isolando para $P_{i,j}^{t+1}$\n",
    "\n",
    "\\begin{equation} P_{i,j}^{t+1}=2P_{i,j}^{t}-P_{i,j}^{t-1}+v_{i,j}^2\\Delta t^2\\left(  (\\nabla^2 P)_{i,j}^t +s_{i_f,j_f}^t\\right) \\end{equation}\n",
    "\n",
    "que é a equação básica de propagação.\n"
   ]
  },
  {
   "cell_type": "markdown",
   "metadata": {},
   "source": [
    "## Criterios de estabilidade\n",
    "\n",
    "### Condição de estabilidade numérica\n",
    "\n",
    "Para o caso $2D$ e fazendo uso da análise de estabilidade de Von Neumann é obtida a condição *CFL*\n",
    "\n",
    "\\begin{equation} \\frac{v_{max} \\Delta t_{p}} {h_{efec}}\\leq  \\sqrt{\\frac{4}{\\sum_k |C_k|}}\\end{equation}\n",
    "\n",
    "onde \n",
    "\n",
    "\\begin{equation}\n",
    "\\frac{1}{h_{efec}}=\\sqrt{\\frac{1}{\\Delta x ^2}+ \\frac{1}{\\Delta z ^2}} \n",
    "\\end{equation}\n",
    "\n",
    "$C_k$ são os coeficientes de diferenças finitas que dependem da ordem do laplaciano usada. Por exemplo para a aproximação de segunda ordem $\\sum_k |C_k|=1+2+1=4$ e para quarta ordem $\\sum_k |C_k|=1/12+16/12+30/12+16/12+1/12=64/12=16/3$.\n",
    "\n",
    "Essa condição fornece uma relação que devem satisfazer os parâmetros de propagação como as distâncias entre celas $\\Delta x$ e $\\Delta z$ e o passo de tempo de propagação $\\Delta t_p$. Com essa condição pode ser calculado o passo de tempo de propagação correto para a propagação isolando $\\Delta t_p$ a equação anterior como\n",
    "\n",
    "\\begin{equation}  \\Delta t  \\leq \\frac{h_{efec}}{v_{max}}\\sqrt{\\frac{4}{\\sum_k |C_k|}}=CFL\\end{equation}\n",
    "\n",
    " Se os parâmetros não satisfazerem a condição *CFL*, a propagaçào vai ser instável numéricamente e para tempos grandes vão aparecer valores muito grandes.\n",
    "\n",
    "### Condição de amostragem espacial\n",
    "\n",
    "Mesmo sendo satisfazendo a condição CFL, a solução numérica da equação de onda pode gerar artifatos numéricos por causa de uma pobre amostragem espacial. Um criterio empírico é que o comprimento de onda mínimo gerado na propagação deve ser maior ou igual a D vezes o mínimo tamanho de cela, ou seja\n",
    "\n",
    "\\begin{equation} \\lambda_{min}=v_{min}/(f_{max})\\geq Dh \\end{equation}\n",
    "\n",
    "onde $h=\\min(\\Delta x, \\Delta z)$. O fator $D$ depende da ordem do laplaciano. Para segunda ordem $D \\approx 10$ e para a quarta ordem $D \\approx 5$. Esta equação fornece um critério para saber qual é a frequência máxima que pode ser propagada no modelo de velocidade. Isolando a $f_{max}$ é obtido que\n",
    "\n",
    "\\begin{equation} f_{max} \\leq \\frac{v_{min}}{Dh}\\end{equation}\n",
    "\n",
    "No caso da wavelet de Ricker usando o fato que $f_{max}\\approx 3f_{p}$, pode-se obter um criterio para obter a frequência pico da Ricker que pode ser propagada \n",
    "\n",
    "\\begin{equation}f_{p} \\leq \\frac{v_{min}}{3Dh}\\end{equation}"
   ]
  },
  {
   "cell_type": "code",
   "execution_count": null,
   "metadata": {},
   "outputs": [],
   "source": [
    "#estabilidade numérica\n",
    "h=20;vmax=5000;dt=h/(np.sqrt(2)*vmax)\n",
    "dt"
   ]
  },
  {
   "cell_type": "code",
   "execution_count": null,
   "metadata": {},
   "outputs": [],
   "source": [
    "#estabilidade espacial\n",
    "h=20;vmin=1500;fmax=15;lmin=vmin/fmax\n",
    "print(5*h)\n",
    "print(lmin)\n",
    "print(lmin>=5*h)"
   ]
  },
  {
   "cell_type": "code",
   "execution_count": null,
   "metadata": {},
   "outputs": [],
   "source": [
    "#definição de parâmetros de propagação\n",
    "nz=101\n",
    "nx=151\n",
    "souz=nz//2\n",
    "soux=nx//2\n",
    "amostras=800\n",
    "dx=15\n",
    "dz=15\n",
    "dt=0.003\n",
    "vel=np.ones((nz,nx))*2000\n",
    "vel[70::,:]=3000\n",
    "fp=5\n",
    "wavelet=ricker(fp,dt,amostras)\n",
    "plt.imshow(vel)\n",
    "plt.plot([soux],[souz],'*r')"
   ]
  },
  {
   "cell_type": "code",
   "execution_count": null,
   "metadata": {},
   "outputs": [],
   "source": [
    "hefec=1/np.sqrt(1/dx**2+1/dz**2)\n",
    "cfl=np.sqrt(3/4)*hefec/vel.max()\n",
    "print('O dt é ',dt,' e deve ser menor que CFL = ',cfl)\n",
    "a=vel.min()/(3*fp)\n",
    "b=5*dx\n",
    "print('O comprimento de onda mínimo é ',a,' e 5h = ',b,'Portanto o criterio ','é satisfeito' if a>b else 'não é satisfeito' )"
   ]
  },
  {
   "cell_type": "code",
   "execution_count": null,
   "metadata": {},
   "outputs": [],
   "source": [
    "onda0=np.zeros((nz,nx))#onda no passado\n",
    "onda1=np.zeros((nz,nx))#onda no presente\n",
    "onda2=np.zeros((nz,nx))#onda no futuro\n",
    "con=(vel*dt)**2\n",
    "for t in range(amostras):\n",
    "        onda2=2*onda1-onda0+con*laplaciano(onda1,dx,dz)\n",
    "        onda2[souz,soux]=onda2[souz,soux]+con[souz,soux]*wavelet[t]\n",
    "        if t%40==0:\n",
    "            plt.figure();plt.imshow(onda2);plt.clim(-10,10)\n",
    "            plt.plot([soux],[souz],'*r')\n",
    "        onda0=onda1\n",
    "        onda1=onda2"
   ]
  },
  {
   "cell_type": "markdown",
   "metadata": {},
   "source": [
    "## Meio infinito\n",
    "\n",
    "Como observado no resultado anterior, os limites da matriz computacional atuam como um refletor perfeito, mas isso não reflete o comportamento dos dados de campo, uma vez que o meio geológico é um \"meio infinito\". Para simular esse meio infinito existem varias técnicas, como as condiçoes de contorno absorventes (ABC - \"Absorbing Boundary Conditions\"), a borda PML (\"Perfectly Matching Layer\"). Por simplicidade, nesse tutorial é implementada a borda de esponja.\n",
    "\n",
    "### Extensão do modelo\n",
    "Para a implementação da borda de esponja primeiro dever ser estendido o modelo de velocidade, para isto a matriz que representa o modelo de velocidade é inserida numa matriz maior e as linhas e colunas na borda do modelo são copiadas na extensão. Ver a função a seguir:"
   ]
  },
  {
   "cell_type": "code",
   "execution_count": null,
   "metadata": {},
   "outputs": [],
   "source": [
    "def estendermodelo(vel,borda):\n",
    "    (nz,nx)=np.shape(vel)\n",
    "    nxa=nx+2*borda\n",
    "    nza=nz+2*borda\n",
    "    modelo=np.zeros((nza,nxa))\n",
    "    modelo[borda:borda+nz,borda:borda+nx]=vel\n",
    "    recheio=vel[:,0];\n",
    "    for i in range(0,borda):\n",
    "        modelo[borda:borda+nz,i]=recheio\n",
    "    recheio=vel[:,nx-1]\n",
    "    for i in range(borda+nx,nxa):\n",
    "        modelo[borda:borda+nz,i]=recheio\n",
    "    recheio=modelo[borda,:]\n",
    "    for i in range(0,borda):\n",
    "        modelo[i,:]=recheio\n",
    "    recheio=modelo[borda+nz-1,:]\n",
    "    for i in range(borda+nz,nza):\n",
    "        modelo[i,:]=recheio\n",
    "    return modelo"
   ]
  },
  {
   "cell_type": "markdown",
   "metadata": {},
   "source": [
    "## criação da borda absorvente\n",
    "\n",
    "Nas celas pertencentes à borda, a amplitude da onda é multiplicada por um fator de amortecimento. Esse fator deve estar entre 0.92 e 1, onde 1 é o fator que multiplica aos elementos no dominio físico correto. No paper do Cerjan (1985) é usada uma função da forma\n",
    "\n",
    "\\begin{equation} factor=\\exp(-(0.015(nb-i)^2)) \\end{equation}\n",
    "\n",
    "Onde $nb$ é o número de elementos na borda que no artigo do Cerjan aconselha usar de 20 a 30 celas. Nesse tutorial vai ser usado um fator parecido calculado pela equação\n",
    "\n",
    "\\begin{equation} factor=\\frac{1+\\cos(\\pi(nb-i))}{2(taper*(nb))} \\end{equation}\n",
    "\n",
    "Que possui um comportamento parecido à borda do Cerjan e pode ser ajustada para qualquer tamanho da borda. O valor do $taper$ pode ser entre 5.3 e 7"
   ]
  },
  {
   "cell_type": "code",
   "execution_count": null,
   "metadata": {},
   "outputs": [],
   "source": [
    "def taper(nz,nx,borda):\n",
    "    damp=6.5*borda\n",
    "    nxa=nx+2*borda\n",
    "    nza=nz+2*borda\n",
    "    amortece=np.ones((nza,nxa))\n",
    "    for i in range(0,borda):\n",
    "        amortece[i,:]=amortece[-1-i,:]=0.5*(1+np.cos(np.pi*(borda-i)/damp))\n",
    "    for i in range(0,borda):\n",
    "        amortece[:,i]=amortece[:,i]*0.5*(1+np.cos(np.pi*(borda-i)/damp))\n",
    "        amortece[:,-1-i]=amortece[:,-1-i]*0.5*(1+np.cos(np.pi*(borda-i)/damp))\n",
    "    return amortece"
   ]
  },
  {
   "cell_type": "code",
   "execution_count": null,
   "metadata": {},
   "outputs": [],
   "source": [
    "borda=50\n",
    "ret_x=[borda,borda+nx,borda+nx,borda,borda]\n",
    "ret_z=[borda,borda,borda+nz,borda+nz,borda]\n",
    "plt.imshow(estendermodelo(vel,borda))\n",
    "plt.plot(ret_x,ret_z,'r')"
   ]
  },
  {
   "cell_type": "code",
   "execution_count": null,
   "metadata": {},
   "outputs": [],
   "source": [
    "amortece=taper(nz,nx,borda)\n",
    "plt.imshow(amortece);plt.colorbar()\n",
    "plt.plot(ret_x,ret_z,'r')"
   ]
  },
  {
   "cell_type": "code",
   "execution_count": null,
   "metadata": {},
   "outputs": [],
   "source": [
    "plt.plot(amortece[nz//2,:])"
   ]
  },
  {
   "cell_type": "code",
   "execution_count": null,
   "metadata": {},
   "outputs": [],
   "source": [
    "amortecedor=taper(nz,nx,borda)\n",
    "onda0=np.zeros(amortecedor.shape)\n",
    "onda1=np.zeros(amortecedor.shape)\n",
    "onda2=np.zeros(amortecedor.shape)\n",
    "vel1=estendermodelo(vel,borda)\n",
    "con=(vel1*dt)**2\n",
    "for t in range(amostras):\n",
    "        onda2=2*onda1-onda0+con*laplaciano(onda1,dx,dz)\n",
    "        onda2[souz+borda,soux+borda]=onda2[souz+borda,soux+borda]+con[souz+borda,soux+borda]*wavelet[t]\n",
    "        if t%40==0:\n",
    "            plt.figure();plt.imshow(onda2);plt.colorbar();plt.clim(-10,10)\n",
    "            plt.plot(ret_x,ret_z,'r')\n",
    "            plt.plot([soux+borda],[souz+borda],'*r')\n",
    "        onda0=onda1*amortecedor\n",
    "        onda1=onda2*amortecedor"
   ]
  },
  {
   "cell_type": "markdown",
   "metadata": {},
   "source": [
    "## Simulação de um sismograma de campo\n",
    "\n",
    "Para simular o sismograma de campo é necessário ir coletando as amplitudes do campo correspondentes com a posição dos receptores para cada instante de tempo e ir armazenando numa matriz cujas colunas correspondem a cada receptor e as linhas correspondem com cada amostra temporal. ver o código na seguinte cela que é uma alteração do código anterior"
   ]
  },
  {
   "cell_type": "code",
   "execution_count": null,
   "metadata": {},
   "outputs": [],
   "source": [
    "nz=101\n",
    "nx=101\n",
    "dx=15\n",
    "dz=15\n",
    "dt=0.002\n",
    "amostras=800\n",
    "borda=50\n",
    "souz=0\n",
    "soux=nx//2\n",
    "recx=np.arange(0,nx,4)\n",
    "recz=np.ones(recx.size,dtype='int')*2\n",
    "fp=10\n",
    "vel=np.ones((nz,nx))*2000\n",
    "vel[40::,:]=3000\n",
    "\n",
    "plt.imshow(vel)\n",
    "plt.plot([soux],[souz],'*r')\n",
    "plt.plot(recx,recz,'vg')"
   ]
  },
  {
   "cell_type": "code",
   "execution_count": null,
   "metadata": {
    "scrolled": false
   },
   "outputs": [],
   "source": [
    "amortecedor=taper(nz,nx,borda)\n",
    "onda0=np.zeros(amortecedor.shape)\n",
    "onda1=np.zeros(amortecedor.shape)\n",
    "onda2=np.zeros(amortecedor.shape)\n",
    "vel1=estendermodelo(vel,borda)\n",
    "nrecs=recx.size\n",
    "tiro=np.zeros((amostras,nrecs))\n",
    "\n",
    "con=(vel1*dt)**2\n",
    "for t in range(amostras):\n",
    "        onda2=2*onda1-onda0+con*laplaciano(onda1,dx,dz)\n",
    "        onda2[souz+borda,soux+borda]=onda2[souz+borda,soux+borda]+con[souz+borda,soux+borda]*wavelet[t]\n",
    "        for j in range(nrecs):\n",
    "            tiro[t,j]=onda2[recz[j]+borda,recx[j]+borda]\n",
    "        if t%80==0:\n",
    "            plt.figure();plt.imshow(tiro,aspect='auto');plt.colorbar();plt.clim(-10,10)\n",
    "        onda0=onda1*amortecedor\n",
    "        onda1=onda2*amortecedor"
   ]
  },
  {
   "cell_type": "code",
   "execution_count": null,
   "metadata": {},
   "outputs": [],
   "source": [
    "plt.plot(tiro[:,3])\n",
    "tiro.shape"
   ]
  },
  {
   "cell_type": "markdown",
   "metadata": {},
   "source": [
    "## Usando modelo mais complexos\n",
    "\n",
    "Toda a implementação anterior pode ser definida numa única função de python que faça a propagação e devolva o tiro. A seguir, vamos criar a função de python e vamos testar ela com um modelo de duas camadas e com o modelo SEG/EAGE overthurst. "
   ]
  },
  {
   "cell_type": "code",
   "execution_count": null,
   "metadata": {},
   "outputs": [],
   "source": [
    "def propagador(wavelet,dt,amostras,soux,souz,recx,recz,vel,dx,dz,borda):\n",
    "    (nz,nx)=np.shape(vel)\n",
    "    nxa=nx+2*borda\n",
    "    nza=nz+2*borda\n",
    "    vel1=estendermodelo(vel,borda)\n",
    "    amortecedor=taper(nz,nx,borda)\n",
    "    onda0=np.zeros((nza,nxa))\n",
    "    onda1=np.zeros((nza,nxa))\n",
    "    onda2=np.zeros((nza,nxa))\n",
    "    nrecs=recx.size\n",
    "    tiro=np.zeros((amostras,nrecs))\n",
    "    con=(vel1*dt)**2\n",
    "    for t in range(amostras):\n",
    "        onda2=2*onda1-onda0+con*laplaciano(onda1,dx,dz)\n",
    "        onda2[souz+borda,soux+borda]=onda2[souz+borda,soux+borda]+con[souz+borda,soux+borda]*wavelet[t]\n",
    "        for j in range(nrecs):\n",
    "            tiro[t,j]=onda2[recz[j]+borda,recx[j]+borda]\n",
    "        onda0=onda1*amortecedor\n",
    "        onda1=onda2*amortecedor\n",
    "    return tiro"
   ]
  },
  {
   "cell_type": "code",
   "execution_count": null,
   "metadata": {},
   "outputs": [],
   "source": [
    "nz=101\n",
    "nx=101\n",
    "dx=15\n",
    "dz=15\n",
    "dt=0.002\n",
    "amostras=800\n",
    "borda=50\n",
    "souz=0\n",
    "soux=nx//2\n",
    "recx=np.arange(0,nx,4)\n",
    "recz=np.ones(recx.size,dtype='int')*2\n",
    "fp=10\n",
    "#Definição de modelo de duas camadas\n",
    "vel=np.ones((nz,nx))*2500.0\n",
    "vel[nz//2::,:]=3500.0\n",
    "wavelet=ricker(fp,dt,amostras)"
   ]
  },
  {
   "cell_type": "code",
   "execution_count": null,
   "metadata": {},
   "outputs": [],
   "source": [
    "plt.imshow(vel);plt.colorbar()"
   ]
  },
  {
   "cell_type": "code",
   "execution_count": null,
   "metadata": {},
   "outputs": [],
   "source": [
    "tic=time.time()\n",
    "tiro=propagador(wavelet,dt,amostras,soux,souz,recx,recz,vel,dx,dz,borda)\n",
    "toc=time.time()\n",
    "print('demorei ',toc-tic,' segundos')"
   ]
  },
  {
   "cell_type": "code",
   "execution_count": null,
   "metadata": {},
   "outputs": [],
   "source": [
    "plt.imshow(tiro,aspect='auto');plt.colorbar();plt.clim(-1.0,1.0)"
   ]
  },
  {
   "cell_type": "code",
   "execution_count": null,
   "metadata": {},
   "outputs": [],
   "source": [
    "#agora com o modelo overthurst\n",
    "nz=187\n",
    "nx=801\n",
    "dx=25\n",
    "dz=25\n",
    "dt=0.002\n",
    "amostras=3000\n",
    "borda=50\n",
    "souz=0\n",
    "soux=nx//2\n",
    "recx=np.arange(0,nx,4)\n",
    "recz=np.ones(recx.size,dtype='int')*2\n",
    "fp=8\n",
    "wavelet=ricker(fp,dt,amostras)"
   ]
  },
  {
   "cell_type": "code",
   "execution_count": null,
   "metadata": {},
   "outputs": [],
   "source": [
    "vel=np.fromfile('overthrust.bin',dtype='float32')\n",
    "vel.shape"
   ]
  },
  {
   "cell_type": "code",
   "execution_count": null,
   "metadata": {},
   "outputs": [],
   "source": [
    "vel=vel.reshape((nx,nz))\n",
    "plt.imshow(vel)"
   ]
  },
  {
   "cell_type": "code",
   "execution_count": null,
   "metadata": {},
   "outputs": [],
   "source": [
    "vel=vel.T\n",
    "plt.imshow(vel)"
   ]
  },
  {
   "cell_type": "code",
   "execution_count": null,
   "metadata": {},
   "outputs": [],
   "source": [
    "#esta é a forma para ler os arquivos binários que o grupo usa como padrão\n",
    "vel=np.fromfile('overthrust.bin',dtype='float32')\n",
    "vel=vel.reshape((nx,nz)).T\n",
    "#aqui vamos visualizar o modelos de velocidade\n",
    "plt.figure(figsize=(15,5))\n",
    "plt.imshow(vel)\n",
    "#aqui fazemos o plot de receptores e fontes sobreposto ao modelo\n",
    "plt.plot(recx,recz,'vy')\n",
    "plt.plot([soux],[souz],'*r')"
   ]
  },
  {
   "cell_type": "code",
   "execution_count": null,
   "metadata": {},
   "outputs": [],
   "source": [
    "tic=time.time()\n",
    "tiro1=propagador(wavelet,dt,amostras,soux,souz,recx,recz,vel,dx,dz,borda)\n",
    "toc=time.time()\n",
    "print('demorei ',toc-tic,' segundos')"
   ]
  },
  {
   "cell_type": "code",
   "execution_count": null,
   "metadata": {
    "scrolled": true
   },
   "outputs": [],
   "source": [
    "plt.imshow(tiro1,aspect='auto',cmap='binary');plt.colorbar();plt.clim(-1,1)"
   ]
  }
 ],
 "metadata": {
  "kernelspec": {
   "display_name": "Python 3",
   "language": "python",
   "name": "python3"
  },
  "language_info": {
   "codemirror_mode": {
    "name": "ipython",
    "version": 3
   },
   "file_extension": ".py",
   "mimetype": "text/x-python",
   "name": "python",
   "nbconvert_exporter": "python",
   "pygments_lexer": "ipython3",
   "version": "3.7.4"
  }
 },
 "nbformat": 4,
 "nbformat_minor": 2
}
